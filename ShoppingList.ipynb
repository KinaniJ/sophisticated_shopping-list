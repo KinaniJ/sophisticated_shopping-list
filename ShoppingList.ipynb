{
 "cells": [
  {
   "cell_type": "code",
   "execution_count": null,
   "id": "da0ce493-82c2-44e9-8afa-bc70ae94aef7",
   "metadata": {
    "scrolled": true
   },
   "outputs": [],
   "source": [
    "#shopping_list = []\n",
    "#function for adding items on shopping list\n",
    "def add_item(item):\n",
    "    shopping_list.append(item)\n",
    "    #item = input('list your item')\n",
    "    print(f' {item} successfully added')\n",
    "#function for removing item on shopping list\n",
    "def remove_item(item):\n",
    "    if item in shopping_list:\n",
    "        shopping_list.remove(item)\n",
    "        print(f' {item} successfully Removed')\n",
    "#function to display content on the item list\n",
    "def show(item):\n",
    "    if shopping_list:\n",
    "        print('Shopping List')\n",
    "        for item in shopping_list:\n",
    "            print(item)\n",
    "#while loop to add, remove, or display list\n",
    "while True:\n",
    "    print('Menu')\n",
    "    print('1: Add to Shopping List')\n",
    "    print('2: Remove from shopping List')\n",
    "    print('3: Show Shopping List')\n",
    "    print('4: End')\n",
    "\n",
    "    options  = int(input('Enter Action 1/ 2/ 3/ 4'))\n",
    "    if options>4:\n",
    "        raise Exception('invalid input')\n",
    "\n",
    "    elif options == 1:\n",
    "        item = input('Type Item to be Shopped')\n",
    "        add_item(item)\n",
    "    elif options == 2:\n",
    "        item = input(\"Which Item do you want to remove\")\n",
    "        remove_item(item)\n",
    "    elif options == 3:\n",
    "        show(item)\n",
    "    elif options == 4:\n",
    "        confirm = input('Do you want to exit shopping list?')\n",
    "        if confirm == 'yes':\n",
    "            break\n",
    "        else:\n",
    "            print('Continue by typing an option')\n"
   ]
  }
 ],
 "metadata": {
  "kernelspec": {
   "display_name": "Python 3 (ipykernel)",
   "language": "python",
   "name": "python3"
  },
  "language_info": {
   "codemirror_mode": {
    "name": "ipython",
    "version": 3
   },
   "file_extension": ".py",
   "mimetype": "text/x-python",
   "name": "python",
   "nbconvert_exporter": "python",
   "pygments_lexer": "ipython3",
   "version": "3.11.4"
  }
 },
 "nbformat": 4,
 "nbformat_minor": 5
}
